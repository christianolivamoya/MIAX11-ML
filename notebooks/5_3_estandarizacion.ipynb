{
 "cells": [
  {
   "cell_type": "code",
   "execution_count": 2,
   "metadata": {
    "executionInfo": {
     "elapsed": 634,
     "status": "ok",
     "timestamp": 1683290189979,
     "user": {
      "displayName": "Christian Oliva",
      "userId": "13213576285190882856"
     },
     "user_tz": -120
    },
    "id": "Gm_1JRit6a27"
   },
   "outputs": [],
   "source": [
    "import numpy as np\n",
    "import pandas as pd"
   ]
  },
  {
   "cell_type": "code",
   "execution_count": 6,
   "metadata": {
    "executionInfo": {
     "elapsed": 1150,
     "status": "ok",
     "timestamp": 1683290221245,
     "user": {
      "displayName": "Christian Oliva",
      "userId": "13213576285190882856"
     },
     "user_tz": -120
    },
    "id": "QyjeTFPO6a29"
   },
   "outputs": [
    {
     "data": {
      "text/html": [
       "<div>\n",
       "<style scoped>\n",
       "    .dataframe tbody tr th:only-of-type {\n",
       "        vertical-align: middle;\n",
       "    }\n",
       "\n",
       "    .dataframe tbody tr th {\n",
       "        vertical-align: top;\n",
       "    }\n",
       "\n",
       "    .dataframe thead th {\n",
       "        text-align: right;\n",
       "    }\n",
       "</style>\n",
       "<table border=\"1\" class=\"dataframe\">\n",
       "  <thead>\n",
       "    <tr style=\"text-align: right;\">\n",
       "      <th></th>\n",
       "      <th>WC/TA</th>\n",
       "      <th>RE/TA</th>\n",
       "      <th>EBIT/TA</th>\n",
       "      <th>S/TA</th>\n",
       "      <th>BVE/BVL</th>\n",
       "      <th>Bankrupt</th>\n",
       "    </tr>\n",
       "    <tr>\n",
       "      <th>Company</th>\n",
       "      <th></th>\n",
       "      <th></th>\n",
       "      <th></th>\n",
       "      <th></th>\n",
       "      <th></th>\n",
       "      <th></th>\n",
       "    </tr>\n",
       "  </thead>\n",
       "  <tbody>\n",
       "    <tr>\n",
       "      <th>Advanced Radio Telecom</th>\n",
       "      <td>42.6</td>\n",
       "      <td>-60.1</td>\n",
       "      <td>-10.1</td>\n",
       "      <td>0.3</td>\n",
       "      <td>4.130</td>\n",
       "      <td>yes</td>\n",
       "    </tr>\n",
       "    <tr>\n",
       "      <th>Net2000 Communications</th>\n",
       "      <td>19.1</td>\n",
       "      <td>-66.3</td>\n",
       "      <td>-25.5</td>\n",
       "      <td>22.3</td>\n",
       "      <td>0.460</td>\n",
       "      <td>yes</td>\n",
       "    </tr>\n",
       "    <tr>\n",
       "      <th>Global Telesystems</th>\n",
       "      <td>24.6</td>\n",
       "      <td>-29.0</td>\n",
       "      <td>-2.0</td>\n",
       "      <td>21.3</td>\n",
       "      <td>1.968</td>\n",
       "      <td>yes</td>\n",
       "    </tr>\n",
       "    <tr>\n",
       "      <th>Equant</th>\n",
       "      <td>8.2</td>\n",
       "      <td>-15.6</td>\n",
       "      <td>0.3</td>\n",
       "      <td>87.7</td>\n",
       "      <td>5.444</td>\n",
       "      <td>no</td>\n",
       "    </tr>\n",
       "    <tr>\n",
       "      <th>Qwest</th>\n",
       "      <td>-6.1</td>\n",
       "      <td>0.0</td>\n",
       "      <td>9.4</td>\n",
       "      <td>22.6</td>\n",
       "      <td>2.123</td>\n",
       "      <td>no</td>\n",
       "    </tr>\n",
       "  </tbody>\n",
       "</table>\n",
       "</div>"
      ],
      "text/plain": [
       "                        WC/TA  RE/TA  EBIT/TA  S/TA  BVE/BVL Bankrupt\n",
       "Company                                                              \n",
       "Advanced Radio Telecom   42.6  -60.1    -10.1   0.3    4.130      yes\n",
       "Net2000 Communications   19.1  -66.3    -25.5  22.3    0.460      yes\n",
       "Global Telesystems       24.6  -29.0     -2.0  21.3    1.968      yes\n",
       "Equant                    8.2  -15.6      0.3  87.7    5.444       no\n",
       "Qwest                    -6.1    0.0      9.4  22.6    2.123       no"
      ]
     },
     "execution_count": 6,
     "metadata": {},
     "output_type": "execute_result"
    }
   ],
   "source": [
    "bankruptcy = pd.read_csv(\"https://raw.githubusercontent.com/christianolivamoya/MIAX11-ML/main/data/bankruptcy.csv\", index_col='Company')\n",
    "bankruptcy.sample(5)"
   ]
  },
  {
   "cell_type": "code",
   "execution_count": 10,
   "metadata": {},
   "outputs": [],
   "source": [
    "features = bankruptcy.drop(\"Bankrupt\", axis=1)\n",
    "target = bankruptcy[\"Bankrupt\"]"
   ]
  },
  {
   "cell_type": "markdown",
   "metadata": {
    "id": "cwDB-qr46a2-"
   },
   "source": [
    "Recordamos la media y varianza de las características"
   ]
  },
  {
   "cell_type": "code",
   "execution_count": 12,
   "metadata": {
    "colab": {
     "base_uri": "https://localhost:8080/",
     "height": 300
    },
    "executionInfo": {
     "elapsed": 264,
     "status": "ok",
     "timestamp": 1683290234167,
     "user": {
      "displayName": "Christian Oliva",
      "userId": "13213576285190882856"
     },
     "user_tz": -120
    },
    "id": "2iCOqHgU6a2_",
    "outputId": "cdfbd72d-011c-40b9-b57d-f0e58c56c9cf"
   },
   "outputs": [
    {
     "data": {
      "text/html": [
       "<div>\n",
       "<style scoped>\n",
       "    .dataframe tbody tr th:only-of-type {\n",
       "        vertical-align: middle;\n",
       "    }\n",
       "\n",
       "    .dataframe tbody tr th {\n",
       "        vertical-align: top;\n",
       "    }\n",
       "\n",
       "    .dataframe thead th {\n",
       "        text-align: right;\n",
       "    }\n",
       "</style>\n",
       "<table border=\"1\" class=\"dataframe\">\n",
       "  <thead>\n",
       "    <tr style=\"text-align: right;\">\n",
       "      <th></th>\n",
       "      <th>WC/TA</th>\n",
       "      <th>RE/TA</th>\n",
       "      <th>EBIT/TA</th>\n",
       "      <th>S/TA</th>\n",
       "      <th>BVE/BVL</th>\n",
       "    </tr>\n",
       "  </thead>\n",
       "  <tbody>\n",
       "    <tr>\n",
       "      <th>count</th>\n",
       "      <td>50.000000</td>\n",
       "      <td>50.000000</td>\n",
       "      <td>50.000000</td>\n",
       "      <td>50.000000</td>\n",
       "      <td>50.000000</td>\n",
       "    </tr>\n",
       "    <tr>\n",
       "      <th>mean</th>\n",
       "      <td>4.818000</td>\n",
       "      <td>-52.936000</td>\n",
       "      <td>-7.622000</td>\n",
       "      <td>39.794000</td>\n",
       "      <td>3.004240</td>\n",
       "    </tr>\n",
       "    <tr>\n",
       "      <th>std</th>\n",
       "      <td>34.269012</td>\n",
       "      <td>90.073681</td>\n",
       "      <td>26.611454</td>\n",
       "      <td>30.862939</td>\n",
       "      <td>5.425038</td>\n",
       "    </tr>\n",
       "    <tr>\n",
       "      <th>min</th>\n",
       "      <td>-127.500000</td>\n",
       "      <td>-433.100000</td>\n",
       "      <td>-98.700000</td>\n",
       "      <td>0.300000</td>\n",
       "      <td>0.028000</td>\n",
       "    </tr>\n",
       "    <tr>\n",
       "      <th>25%</th>\n",
       "      <td>-5.700000</td>\n",
       "      <td>-75.225000</td>\n",
       "      <td>-12.275000</td>\n",
       "      <td>21.075000</td>\n",
       "      <td>0.566000</td>\n",
       "    </tr>\n",
       "    <tr>\n",
       "      <th>50%</th>\n",
       "      <td>5.350000</td>\n",
       "      <td>-38.550000</td>\n",
       "      <td>-2.450000</td>\n",
       "      <td>33.550000</td>\n",
       "      <td>1.405500</td>\n",
       "    </tr>\n",
       "    <tr>\n",
       "      <th>75%</th>\n",
       "      <td>25.050000</td>\n",
       "      <td>0.000000</td>\n",
       "      <td>9.025000</td>\n",
       "      <td>51.025000</td>\n",
       "      <td>3.317250</td>\n",
       "    </tr>\n",
       "    <tr>\n",
       "      <th>max</th>\n",
       "      <td>74.700000</td>\n",
       "      <td>54.600000</td>\n",
       "      <td>27.900000</td>\n",
       "      <td>127.800000</td>\n",
       "      <td>35.178000</td>\n",
       "    </tr>\n",
       "  </tbody>\n",
       "</table>\n",
       "</div>"
      ],
      "text/plain": [
       "            WC/TA       RE/TA    EBIT/TA        S/TA    BVE/BVL\n",
       "count   50.000000   50.000000  50.000000   50.000000  50.000000\n",
       "mean     4.818000  -52.936000  -7.622000   39.794000   3.004240\n",
       "std     34.269012   90.073681  26.611454   30.862939   5.425038\n",
       "min   -127.500000 -433.100000 -98.700000    0.300000   0.028000\n",
       "25%     -5.700000  -75.225000 -12.275000   21.075000   0.566000\n",
       "50%      5.350000  -38.550000  -2.450000   33.550000   1.405500\n",
       "75%     25.050000    0.000000   9.025000   51.025000   3.317250\n",
       "max     74.700000   54.600000  27.900000  127.800000  35.178000"
      ]
     },
     "execution_count": 12,
     "metadata": {},
     "output_type": "execute_result"
    }
   ],
   "source": [
    "features.describe()"
   ]
  },
  {
   "cell_type": "markdown",
   "metadata": {},
   "source": [
    "Normalizamos los datos:"
   ]
  },
  {
   "cell_type": "code",
   "execution_count": 13,
   "metadata": {},
   "outputs": [],
   "source": [
    "def normalizar(x):\n",
    "    return (x - x.mean()) / x.std()"
   ]
  },
  {
   "cell_type": "code",
   "execution_count": 15,
   "metadata": {
    "colab": {
     "base_uri": "https://localhost:8080/"
    },
    "executionInfo": {
     "elapsed": 215,
     "status": "ok",
     "timestamp": 1683290269764,
     "user": {
      "displayName": "Christian Oliva",
      "userId": "13213576285190882856"
     },
     "user_tz": -120
    },
    "id": "ipveG0YH6a3B",
    "outputId": "a7dfdb16-4e0d-434c-fa4b-d8dc7a9dc0ca"
   },
   "outputs": [
    {
     "data": {
      "text/html": [
       "<div>\n",
       "<style scoped>\n",
       "    .dataframe tbody tr th:only-of-type {\n",
       "        vertical-align: middle;\n",
       "    }\n",
       "\n",
       "    .dataframe tbody tr th {\n",
       "        vertical-align: top;\n",
       "    }\n",
       "\n",
       "    .dataframe thead th {\n",
       "        text-align: right;\n",
       "    }\n",
       "</style>\n",
       "<table border=\"1\" class=\"dataframe\">\n",
       "  <thead>\n",
       "    <tr style=\"text-align: right;\">\n",
       "      <th></th>\n",
       "      <th>WC/TA</th>\n",
       "      <th>RE/TA</th>\n",
       "      <th>EBIT/TA</th>\n",
       "      <th>S/TA</th>\n",
       "      <th>BVE/BVL</th>\n",
       "    </tr>\n",
       "    <tr>\n",
       "      <th>Company</th>\n",
       "      <th></th>\n",
       "      <th></th>\n",
       "      <th></th>\n",
       "      <th></th>\n",
       "      <th></th>\n",
       "    </tr>\n",
       "  </thead>\n",
       "  <tbody>\n",
       "    <tr>\n",
       "      <th>WebLink Wireless</th>\n",
       "      <td>-3.861156</td>\n",
       "      <td>-0.758979</td>\n",
       "      <td>0.526916</td>\n",
       "      <td>0.839389</td>\n",
       "      <td>-0.508059</td>\n",
       "    </tr>\n",
       "    <tr>\n",
       "      <th>Openwave Systems</th>\n",
       "      <td>0.451778</td>\n",
       "      <td>-0.092857</td>\n",
       "      <td>0.357816</td>\n",
       "      <td>-0.414543</td>\n",
       "      <td>5.930605</td>\n",
       "    </tr>\n",
       "    <tr>\n",
       "      <th>Equant</th>\n",
       "      <td>0.098690</td>\n",
       "      <td>0.414505</td>\n",
       "      <td>0.297691</td>\n",
       "      <td>1.552218</td>\n",
       "      <td>0.449722</td>\n",
       "    </tr>\n",
       "    <tr>\n",
       "      <th>Aether Systems</th>\n",
       "      <td>0.752342</td>\n",
       "      <td>0.427828</td>\n",
       "      <td>0.102287</td>\n",
       "      <td>-1.218095</td>\n",
       "      <td>0.088066</td>\n",
       "    </tr>\n",
       "    <tr>\n",
       "      <th>Garmin</th>\n",
       "      <td>2.039218</td>\n",
       "      <td>1.193867</td>\n",
       "      <td>1.334839</td>\n",
       "      <td>1.127760</td>\n",
       "      <td>0.131936</td>\n",
       "    </tr>\n",
       "  </tbody>\n",
       "</table>\n",
       "</div>"
      ],
      "text/plain": [
       "                     WC/TA     RE/TA   EBIT/TA      S/TA   BVE/BVL\n",
       "Company                                                           \n",
       "WebLink Wireless -3.861156 -0.758979  0.526916  0.839389 -0.508059\n",
       "Openwave Systems  0.451778 -0.092857  0.357816 -0.414543  5.930605\n",
       "Equant            0.098690  0.414505  0.297691  1.552218  0.449722\n",
       "Aether Systems    0.752342  0.427828  0.102287 -1.218095  0.088066\n",
       "Garmin            2.039218  1.193867  1.334839  1.127760  0.131936"
      ]
     },
     "execution_count": 15,
     "metadata": {},
     "output_type": "execute_result"
    }
   ],
   "source": [
    "features = features.apply(normalizar)\n",
    "features.sample(5)"
   ]
  },
  {
   "cell_type": "code",
   "execution_count": 16,
   "metadata": {},
   "outputs": [
    {
     "data": {
      "text/html": [
       "<div>\n",
       "<style scoped>\n",
       "    .dataframe tbody tr th:only-of-type {\n",
       "        vertical-align: middle;\n",
       "    }\n",
       "\n",
       "    .dataframe tbody tr th {\n",
       "        vertical-align: top;\n",
       "    }\n",
       "\n",
       "    .dataframe thead th {\n",
       "        text-align: right;\n",
       "    }\n",
       "</style>\n",
       "<table border=\"1\" class=\"dataframe\">\n",
       "  <thead>\n",
       "    <tr style=\"text-align: right;\">\n",
       "      <th></th>\n",
       "      <th>WC/TA</th>\n",
       "      <th>RE/TA</th>\n",
       "      <th>EBIT/TA</th>\n",
       "      <th>S/TA</th>\n",
       "      <th>BVE/BVL</th>\n",
       "    </tr>\n",
       "  </thead>\n",
       "  <tbody>\n",
       "    <tr>\n",
       "      <th>count</th>\n",
       "      <td>5.000000e+01</td>\n",
       "      <td>5.000000e+01</td>\n",
       "      <td>5.000000e+01</td>\n",
       "      <td>5.000000e+01</td>\n",
       "      <td>5.000000e+01</td>\n",
       "    </tr>\n",
       "    <tr>\n",
       "      <th>mean</th>\n",
       "      <td>-2.831069e-17</td>\n",
       "      <td>6.716849e-17</td>\n",
       "      <td>-8.881784e-18</td>\n",
       "      <td>1.287859e-16</td>\n",
       "      <td>-6.661338e-17</td>\n",
       "    </tr>\n",
       "    <tr>\n",
       "      <th>std</th>\n",
       "      <td>1.000000e+00</td>\n",
       "      <td>1.000000e+00</td>\n",
       "      <td>1.000000e+00</td>\n",
       "      <td>1.000000e+00</td>\n",
       "      <td>1.000000e+00</td>\n",
       "    </tr>\n",
       "    <tr>\n",
       "      <th>min</th>\n",
       "      <td>-3.861156e+00</td>\n",
       "      <td>-4.220589e+00</td>\n",
       "      <td>-3.422511e+00</td>\n",
       "      <td>-1.279658e+00</td>\n",
       "      <td>-5.486118e-01</td>\n",
       "    </tr>\n",
       "    <tr>\n",
       "      <th>25%</th>\n",
       "      <td>-3.069245e-01</td>\n",
       "      <td>-2.474530e-01</td>\n",
       "      <td>-1.748495e-01</td>\n",
       "      <td>-6.065203e-01</td>\n",
       "      <td>-4.494420e-01</td>\n",
       "    </tr>\n",
       "    <tr>\n",
       "      <th>50%</th>\n",
       "      <td>1.552423e-02</td>\n",
       "      <td>1.597137e-01</td>\n",
       "      <td>1.943524e-01</td>\n",
       "      <td>-2.023139e-01</td>\n",
       "      <td>-2.946966e-01</td>\n",
       "    </tr>\n",
       "    <tr>\n",
       "      <th>75%</th>\n",
       "      <td>5.903876e-01</td>\n",
       "      <td>5.876966e-01</td>\n",
       "      <td>6.255577e-01</td>\n",
       "      <td>3.638992e-01</td>\n",
       "      <td>5.769729e-02</td>\n",
       "    </tr>\n",
       "    <tr>\n",
       "      <th>max</th>\n",
       "      <td>2.039218e+00</td>\n",
       "      <td>1.193867e+00</td>\n",
       "      <td>1.334839e+00</td>\n",
       "      <td>2.851511e+00</td>\n",
       "      <td>5.930605e+00</td>\n",
       "    </tr>\n",
       "  </tbody>\n",
       "</table>\n",
       "</div>"
      ],
      "text/plain": [
       "              WC/TA         RE/TA       EBIT/TA          S/TA       BVE/BVL\n",
       "count  5.000000e+01  5.000000e+01  5.000000e+01  5.000000e+01  5.000000e+01\n",
       "mean  -2.831069e-17  6.716849e-17 -8.881784e-18  1.287859e-16 -6.661338e-17\n",
       "std    1.000000e+00  1.000000e+00  1.000000e+00  1.000000e+00  1.000000e+00\n",
       "min   -3.861156e+00 -4.220589e+00 -3.422511e+00 -1.279658e+00 -5.486118e-01\n",
       "25%   -3.069245e-01 -2.474530e-01 -1.748495e-01 -6.065203e-01 -4.494420e-01\n",
       "50%    1.552423e-02  1.597137e-01  1.943524e-01 -2.023139e-01 -2.946966e-01\n",
       "75%    5.903876e-01  5.876966e-01  6.255577e-01  3.638992e-01  5.769729e-02\n",
       "max    2.039218e+00  1.193867e+00  1.334839e+00  2.851511e+00  5.930605e+00"
      ]
     },
     "execution_count": 16,
     "metadata": {},
     "output_type": "execute_result"
    }
   ],
   "source": [
    "features.describe()"
   ]
  },
  {
   "cell_type": "markdown",
   "metadata": {
    "id": "q123F_8n6a3F"
   },
   "source": [
    "Como alternativa más adecuada podemos utilizar los \"Scalers\" de sklearn que nos permiten\n",
    "guardar la transformación para aplicarlos sobre otros datasets, por ejemplo el de test."
   ]
  },
  {
   "cell_type": "code",
   "execution_count": 17,
   "metadata": {
    "executionInfo": {
     "elapsed": 189,
     "status": "ok",
     "timestamp": 1683290292765,
     "user": {
      "displayName": "Christian Oliva",
      "userId": "13213576285190882856"
     },
     "user_tz": -120
    },
    "id": "jltul5346a3G"
   },
   "outputs": [],
   "source": [
    "from sklearn.preprocessing import StandardScaler"
   ]
  },
  {
   "cell_type": "code",
   "execution_count": 18,
   "metadata": {
    "executionInfo": {
     "elapsed": 237,
     "status": "ok",
     "timestamp": 1683290296904,
     "user": {
      "displayName": "Christian Oliva",
      "userId": "13213576285190882856"
     },
     "user_tz": -120
    },
    "id": "1_U697276a3H"
   },
   "outputs": [],
   "source": [
    "features = bankruptcy.drop('Bankrupt', axis=1)\n",
    "target = bankruptcy['Bankrupt']"
   ]
  },
  {
   "cell_type": "code",
   "execution_count": 19,
   "metadata": {
    "executionInfo": {
     "elapsed": 2,
     "status": "ok",
     "timestamp": 1683290298632,
     "user": {
      "displayName": "Christian Oliva",
      "userId": "13213576285190882856"
     },
     "user_tz": -120
    },
    "id": "qpXg3II_6a3I"
   },
   "outputs": [],
   "source": [
    "scaler = StandardScaler()"
   ]
  },
  {
   "cell_type": "code",
   "execution_count": 22,
   "metadata": {
    "colab": {
     "base_uri": "https://localhost:8080/",
     "height": 206
    },
    "executionInfo": {
     "elapsed": 203,
     "status": "ok",
     "timestamp": 1683290309517,
     "user": {
      "displayName": "Christian Oliva",
      "userId": "13213576285190882856"
     },
     "user_tz": -120
    },
    "id": "lBG5txyR6a3I",
    "outputId": "25e9e3f2-88b7-45bf-b337-be5adcf22a17"
   },
   "outputs": [
    {
     "data": {
      "text/html": [
       "<div>\n",
       "<style scoped>\n",
       "    .dataframe tbody tr th:only-of-type {\n",
       "        vertical-align: middle;\n",
       "    }\n",
       "\n",
       "    .dataframe tbody tr th {\n",
       "        vertical-align: top;\n",
       "    }\n",
       "\n",
       "    .dataframe thead th {\n",
       "        text-align: right;\n",
       "    }\n",
       "</style>\n",
       "<table border=\"1\" class=\"dataframe\">\n",
       "  <thead>\n",
       "    <tr style=\"text-align: right;\">\n",
       "      <th></th>\n",
       "      <th>WC/TA</th>\n",
       "      <th>RE/TA</th>\n",
       "      <th>EBIT/TA</th>\n",
       "      <th>S/TA</th>\n",
       "      <th>BVE/BVL</th>\n",
       "    </tr>\n",
       "  </thead>\n",
       "  <tbody>\n",
       "    <tr>\n",
       "      <th>0</th>\n",
       "      <td>0.132117</td>\n",
       "      <td>0.507310</td>\n",
       "      <td>0.350061</td>\n",
       "      <td>-1.004623</td>\n",
       "      <td>0.134393</td>\n",
       "    </tr>\n",
       "    <tr>\n",
       "      <th>1</th>\n",
       "      <td>1.113705</td>\n",
       "      <td>-0.080342</td>\n",
       "      <td>-0.094063</td>\n",
       "      <td>-1.292650</td>\n",
       "      <td>0.209619</td>\n",
       "    </tr>\n",
       "    <tr>\n",
       "      <th>2</th>\n",
       "      <td>-0.990963</td>\n",
       "      <td>-1.685171</td>\n",
       "      <td>-1.646599</td>\n",
       "      <td>-0.821334</td>\n",
       "      <td>-0.538727</td>\n",
       "    </tr>\n",
       "    <tr>\n",
       "      <th>3</th>\n",
       "      <td>-0.068328</td>\n",
       "      <td>-4.263439</td>\n",
       "      <td>0.061570</td>\n",
       "      <td>-0.343472</td>\n",
       "      <td>-0.196488</td>\n",
       "    </tr>\n",
       "    <tr>\n",
       "      <th>4</th>\n",
       "      <td>0.627333</td>\n",
       "      <td>-0.050063</td>\n",
       "      <td>-0.602718</td>\n",
       "      <td>0.471512</td>\n",
       "      <td>-0.400193</td>\n",
       "    </tr>\n",
       "  </tbody>\n",
       "</table>\n",
       "</div>"
      ],
      "text/plain": [
       "      WC/TA     RE/TA   EBIT/TA      S/TA   BVE/BVL\n",
       "0  0.132117  0.507310  0.350061 -1.004623  0.134393\n",
       "1  1.113705 -0.080342 -0.094063 -1.292650  0.209619\n",
       "2 -0.990963 -1.685171 -1.646599 -0.821334 -0.538727\n",
       "3 -0.068328 -4.263439  0.061570 -0.343472 -0.196488\n",
       "4  0.627333 -0.050063 -0.602718  0.471512 -0.400193"
      ]
     },
     "execution_count": 22,
     "metadata": {},
     "output_type": "execute_result"
    }
   ],
   "source": [
    "ft_z_array = scaler.fit_transform(features)\n",
    "features_z = pd.DataFrame(ft_z_array, columns=features.columns)\n",
    "features_z.head()"
   ]
  },
  {
   "cell_type": "code",
   "execution_count": 23,
   "metadata": {
    "colab": {
     "base_uri": "https://localhost:8080/",
     "height": 300
    },
    "executionInfo": {
     "elapsed": 345,
     "status": "ok",
     "timestamp": 1683290315148,
     "user": {
      "displayName": "Christian Oliva",
      "userId": "13213576285190882856"
     },
     "user_tz": -120
    },
    "id": "eC5JWHZV6a3J",
    "outputId": "56b45359-87d1-4d81-9477-655b203d270c"
   },
   "outputs": [
    {
     "data": {
      "text/html": [
       "<div>\n",
       "<style scoped>\n",
       "    .dataframe tbody tr th:only-of-type {\n",
       "        vertical-align: middle;\n",
       "    }\n",
       "\n",
       "    .dataframe tbody tr th {\n",
       "        vertical-align: top;\n",
       "    }\n",
       "\n",
       "    .dataframe thead th {\n",
       "        text-align: right;\n",
       "    }\n",
       "</style>\n",
       "<table border=\"1\" class=\"dataframe\">\n",
       "  <thead>\n",
       "    <tr style=\"text-align: right;\">\n",
       "      <th></th>\n",
       "      <th>WC/TA</th>\n",
       "      <th>RE/TA</th>\n",
       "      <th>EBIT/TA</th>\n",
       "      <th>S/TA</th>\n",
       "      <th>BVE/BVL</th>\n",
       "    </tr>\n",
       "  </thead>\n",
       "  <tbody>\n",
       "    <tr>\n",
       "      <th>count</th>\n",
       "      <td>5.000000e+01</td>\n",
       "      <td>5.000000e+01</td>\n",
       "      <td>5.000000e+01</td>\n",
       "      <td>5.000000e+01</td>\n",
       "      <td>5.000000e+01</td>\n",
       "    </tr>\n",
       "    <tr>\n",
       "      <th>mean</th>\n",
       "      <td>-3.608225e-18</td>\n",
       "      <td>9.325873e-17</td>\n",
       "      <td>2.220446e-18</td>\n",
       "      <td>9.325873e-17</td>\n",
       "      <td>-6.661338e-17</td>\n",
       "    </tr>\n",
       "    <tr>\n",
       "      <th>std</th>\n",
       "      <td>1.010153e+00</td>\n",
       "      <td>1.010153e+00</td>\n",
       "      <td>1.010153e+00</td>\n",
       "      <td>1.010153e+00</td>\n",
       "      <td>1.010153e+00</td>\n",
       "    </tr>\n",
       "    <tr>\n",
       "      <th>min</th>\n",
       "      <td>-3.900357e+00</td>\n",
       "      <td>-4.263439e+00</td>\n",
       "      <td>-3.457258e+00</td>\n",
       "      <td>-1.292650e+00</td>\n",
       "      <td>-5.541816e-01</td>\n",
       "    </tr>\n",
       "    <tr>\n",
       "      <th>25%</th>\n",
       "      <td>-3.100406e-01</td>\n",
       "      <td>-2.499652e-01</td>\n",
       "      <td>-1.766247e-01</td>\n",
       "      <td>-6.126781e-01</td>\n",
       "      <td>-4.540050e-01</td>\n",
       "    </tr>\n",
       "    <tr>\n",
       "      <th>50%</th>\n",
       "      <td>1.568184e-02</td>\n",
       "      <td>1.613352e-01</td>\n",
       "      <td>1.963256e-01</td>\n",
       "      <td>-2.043679e-01</td>\n",
       "      <td>-2.976885e-01</td>\n",
       "    </tr>\n",
       "    <tr>\n",
       "      <th>75%</th>\n",
       "      <td>5.963815e-01</td>\n",
       "      <td>5.936633e-01</td>\n",
       "      <td>6.319087e-01</td>\n",
       "      <td>3.675937e-01</td>\n",
       "      <td>5.828307e-02</td>\n",
       "    </tr>\n",
       "    <tr>\n",
       "      <th>max</th>\n",
       "      <td>2.059922e+00</td>\n",
       "      <td>1.205988e+00</td>\n",
       "      <td>1.348391e+00</td>\n",
       "      <td>2.880461e+00</td>\n",
       "      <td>5.990816e+00</td>\n",
       "    </tr>\n",
       "  </tbody>\n",
       "</table>\n",
       "</div>"
      ],
      "text/plain": [
       "              WC/TA         RE/TA       EBIT/TA          S/TA       BVE/BVL\n",
       "count  5.000000e+01  5.000000e+01  5.000000e+01  5.000000e+01  5.000000e+01\n",
       "mean  -3.608225e-18  9.325873e-17  2.220446e-18  9.325873e-17 -6.661338e-17\n",
       "std    1.010153e+00  1.010153e+00  1.010153e+00  1.010153e+00  1.010153e+00\n",
       "min   -3.900357e+00 -4.263439e+00 -3.457258e+00 -1.292650e+00 -5.541816e-01\n",
       "25%   -3.100406e-01 -2.499652e-01 -1.766247e-01 -6.126781e-01 -4.540050e-01\n",
       "50%    1.568184e-02  1.613352e-01  1.963256e-01 -2.043679e-01 -2.976885e-01\n",
       "75%    5.963815e-01  5.936633e-01  6.319087e-01  3.675937e-01  5.828307e-02\n",
       "max    2.059922e+00  1.205988e+00  1.348391e+00  2.880461e+00  5.990816e+00"
      ]
     },
     "execution_count": 23,
     "metadata": {},
     "output_type": "execute_result"
    }
   ],
   "source": [
    "features_z.describe()"
   ]
  },
  {
   "cell_type": "markdown",
   "metadata": {
    "id": "9unzhNac6a3K"
   },
   "source": [
    "La normalización de rango funciona de forma similar con el *MinMaxScaler*"
   ]
  },
  {
   "cell_type": "code",
   "execution_count": 24,
   "metadata": {
    "executionInfo": {
     "elapsed": 3,
     "status": "ok",
     "timestamp": 1683290331696,
     "user": {
      "displayName": "Christian Oliva",
      "userId": "13213576285190882856"
     },
     "user_tz": -120
    },
    "id": "z3bjT3hz6a3L"
   },
   "outputs": [],
   "source": [
    "from sklearn.preprocessing import MinMaxScaler"
   ]
  },
  {
   "cell_type": "code",
   "execution_count": 25,
   "metadata": {
    "colab": {
     "base_uri": "https://localhost:8080/",
     "height": 300
    },
    "executionInfo": {
     "elapsed": 5,
     "status": "ok",
     "timestamp": 1683290334007,
     "user": {
      "displayName": "Christian Oliva",
      "userId": "13213576285190882856"
     },
     "user_tz": -120
    },
    "id": "ZEO5dC5U6a3L",
    "outputId": "9fa8e50b-88f9-4116-eac4-0e188fffd0bd"
   },
   "outputs": [
    {
     "data": {
      "text/html": [
       "<div>\n",
       "<style scoped>\n",
       "    .dataframe tbody tr th:only-of-type {\n",
       "        vertical-align: middle;\n",
       "    }\n",
       "\n",
       "    .dataframe tbody tr th {\n",
       "        vertical-align: top;\n",
       "    }\n",
       "\n",
       "    .dataframe thead th {\n",
       "        text-align: right;\n",
       "    }\n",
       "</style>\n",
       "<table border=\"1\" class=\"dataframe\">\n",
       "  <thead>\n",
       "    <tr style=\"text-align: right;\">\n",
       "      <th></th>\n",
       "      <th>WC/TA</th>\n",
       "      <th>RE/TA</th>\n",
       "      <th>EBIT/TA</th>\n",
       "      <th>S/TA</th>\n",
       "      <th>BVE/BVL</th>\n",
       "    </tr>\n",
       "  </thead>\n",
       "  <tbody>\n",
       "    <tr>\n",
       "      <th>count</th>\n",
       "      <td>50.000000</td>\n",
       "      <td>50.000000</td>\n",
       "      <td>50.000000</td>\n",
       "      <td>50.000000</td>\n",
       "      <td>50.000000</td>\n",
       "    </tr>\n",
       "    <tr>\n",
       "      <th>mean</th>\n",
       "      <td>0.654392</td>\n",
       "      <td>0.779504</td>\n",
       "      <td>0.719415</td>\n",
       "      <td>0.309757</td>\n",
       "      <td>0.084673</td>\n",
       "    </tr>\n",
       "    <tr>\n",
       "      <th>std</th>\n",
       "      <td>0.169481</td>\n",
       "      <td>0.184691</td>\n",
       "      <td>0.210201</td>\n",
       "      <td>0.242062</td>\n",
       "      <td>0.154340</td>\n",
       "    </tr>\n",
       "    <tr>\n",
       "      <th>min</th>\n",
       "      <td>0.000000</td>\n",
       "      <td>0.000000</td>\n",
       "      <td>0.000000</td>\n",
       "      <td>0.000000</td>\n",
       "      <td>0.000000</td>\n",
       "    </tr>\n",
       "    <tr>\n",
       "      <th>25%</th>\n",
       "      <td>0.602374</td>\n",
       "      <td>0.733802</td>\n",
       "      <td>0.682662</td>\n",
       "      <td>0.162941</td>\n",
       "      <td>0.015306</td>\n",
       "    </tr>\n",
       "    <tr>\n",
       "      <th>50%</th>\n",
       "      <td>0.657023</td>\n",
       "      <td>0.809001</td>\n",
       "      <td>0.760269</td>\n",
       "      <td>0.260784</td>\n",
       "      <td>0.039189</td>\n",
       "    </tr>\n",
       "    <tr>\n",
       "      <th>75%</th>\n",
       "      <td>0.754451</td>\n",
       "      <td>0.888046</td>\n",
       "      <td>0.850908</td>\n",
       "      <td>0.397843</td>\n",
       "      <td>0.093578</td>\n",
       "    </tr>\n",
       "    <tr>\n",
       "      <th>max</th>\n",
       "      <td>1.000000</td>\n",
       "      <td>1.000000</td>\n",
       "      <td>1.000000</td>\n",
       "      <td>1.000000</td>\n",
       "      <td>1.000000</td>\n",
       "    </tr>\n",
       "  </tbody>\n",
       "</table>\n",
       "</div>"
      ],
      "text/plain": [
       "           WC/TA      RE/TA    EBIT/TA       S/TA    BVE/BVL\n",
       "count  50.000000  50.000000  50.000000  50.000000  50.000000\n",
       "mean    0.654392   0.779504   0.719415   0.309757   0.084673\n",
       "std     0.169481   0.184691   0.210201   0.242062   0.154340\n",
       "min     0.000000   0.000000   0.000000   0.000000   0.000000\n",
       "25%     0.602374   0.733802   0.682662   0.162941   0.015306\n",
       "50%     0.657023   0.809001   0.760269   0.260784   0.039189\n",
       "75%     0.754451   0.888046   0.850908   0.397843   0.093578\n",
       "max     1.000000   1.000000   1.000000   1.000000   1.000000"
      ]
     },
     "execution_count": 25,
     "metadata": {},
     "output_type": "execute_result"
    }
   ],
   "source": [
    "ft_norm_arr = MinMaxScaler().fit_transform(features)\n",
    "pd.DataFrame(ft_norm_arr, columns=features.columns).describe()"
   ]
  },
  {
   "cell_type": "code",
   "execution_count": null,
   "metadata": {
    "id": "DfQEgIVe6a3M"
   },
   "outputs": [],
   "source": []
  }
 ],
 "metadata": {
  "colab": {
   "provenance": []
  },
  "kernelspec": {
   "display_name": "Python 3 (ipykernel)",
   "language": "python",
   "name": "python3"
  },
  "language_info": {
   "codemirror_mode": {
    "name": "ipython",
    "version": 3
   },
   "file_extension": ".py",
   "mimetype": "text/x-python",
   "name": "python",
   "nbconvert_exporter": "python",
   "pygments_lexer": "ipython3",
   "version": "3.11.5"
  }
 },
 "nbformat": 4,
 "nbformat_minor": 1
}

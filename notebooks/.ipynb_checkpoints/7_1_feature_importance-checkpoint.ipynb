{
 "cells": [
  {
   "cell_type": "code",
   "execution_count": 1,
   "metadata": {
    "id": "m_VIEJupfQVf"
   },
   "outputs": [],
   "source": [
    "import numpy as np\n",
    "import pandas as pd\n",
    "\n",
    "import matplotlib.pyplot as plt"
   ]
  },
  {
   "cell_type": "code",
   "execution_count": 2,
   "metadata": {
    "id": "BcErAyCEfQVh"
   },
   "outputs": [],
   "source": [
    "from sklearn.model_selection import train_test_split\n",
    "from sklearn.neighbors import KNeighborsClassifier\n",
    "from sklearn.tree import DecisionTreeClassifier\n",
    "from sklearn.preprocessing import LabelEncoder, MinMaxScaler, StandardScaler\n",
    "from sklearn.metrics import confusion_matrix"
   ]
  },
  {
   "cell_type": "code",
   "execution_count": 3,
   "metadata": {
    "id": "H0f9q-9afQVi"
   },
   "outputs": [
    {
     "data": {
      "text/html": [
       "<div>\n",
       "<style scoped>\n",
       "    .dataframe tbody tr th:only-of-type {\n",
       "        vertical-align: middle;\n",
       "    }\n",
       "\n",
       "    .dataframe tbody tr th {\n",
       "        vertical-align: top;\n",
       "    }\n",
       "\n",
       "    .dataframe thead th {\n",
       "        text-align: right;\n",
       "    }\n",
       "</style>\n",
       "<table border=\"1\" class=\"dataframe\">\n",
       "  <thead>\n",
       "    <tr style=\"text-align: right;\">\n",
       "      <th></th>\n",
       "      <th>age</th>\n",
       "      <th>job</th>\n",
       "      <th>marital</th>\n",
       "      <th>education</th>\n",
       "      <th>default</th>\n",
       "      <th>balance</th>\n",
       "      <th>housing</th>\n",
       "      <th>loan</th>\n",
       "      <th>contact</th>\n",
       "      <th>day</th>\n",
       "      <th>month</th>\n",
       "      <th>duration</th>\n",
       "      <th>campaign</th>\n",
       "      <th>pdays</th>\n",
       "      <th>previous</th>\n",
       "      <th>poutcome</th>\n",
       "      <th>y</th>\n",
       "    </tr>\n",
       "  </thead>\n",
       "  <tbody>\n",
       "    <tr>\n",
       "      <th>3195</th>\n",
       "      <td>33</td>\n",
       "      <td>services</td>\n",
       "      <td>married</td>\n",
       "      <td>primary</td>\n",
       "      <td>no</td>\n",
       "      <td>6904</td>\n",
       "      <td>no</td>\n",
       "      <td>no</td>\n",
       "      <td>telephone</td>\n",
       "      <td>20</td>\n",
       "      <td>nov</td>\n",
       "      <td>114</td>\n",
       "      <td>2</td>\n",
       "      <td>-1</td>\n",
       "      <td>0</td>\n",
       "      <td>unknown</td>\n",
       "      <td>no</td>\n",
       "    </tr>\n",
       "    <tr>\n",
       "      <th>4398</th>\n",
       "      <td>57</td>\n",
       "      <td>retired</td>\n",
       "      <td>married</td>\n",
       "      <td>tertiary</td>\n",
       "      <td>no</td>\n",
       "      <td>31</td>\n",
       "      <td>no</td>\n",
       "      <td>no</td>\n",
       "      <td>cellular</td>\n",
       "      <td>19</td>\n",
       "      <td>aug</td>\n",
       "      <td>260</td>\n",
       "      <td>2</td>\n",
       "      <td>-1</td>\n",
       "      <td>0</td>\n",
       "      <td>unknown</td>\n",
       "      <td>no</td>\n",
       "    </tr>\n",
       "    <tr>\n",
       "      <th>2695</th>\n",
       "      <td>46</td>\n",
       "      <td>technician</td>\n",
       "      <td>married</td>\n",
       "      <td>tertiary</td>\n",
       "      <td>no</td>\n",
       "      <td>405</td>\n",
       "      <td>no</td>\n",
       "      <td>no</td>\n",
       "      <td>cellular</td>\n",
       "      <td>11</td>\n",
       "      <td>aug</td>\n",
       "      <td>138</td>\n",
       "      <td>3</td>\n",
       "      <td>-1</td>\n",
       "      <td>0</td>\n",
       "      <td>unknown</td>\n",
       "      <td>no</td>\n",
       "    </tr>\n",
       "    <tr>\n",
       "      <th>4311</th>\n",
       "      <td>46</td>\n",
       "      <td>admin.</td>\n",
       "      <td>single</td>\n",
       "      <td>secondary</td>\n",
       "      <td>no</td>\n",
       "      <td>1790</td>\n",
       "      <td>yes</td>\n",
       "      <td>no</td>\n",
       "      <td>unknown</td>\n",
       "      <td>5</td>\n",
       "      <td>jun</td>\n",
       "      <td>214</td>\n",
       "      <td>5</td>\n",
       "      <td>-1</td>\n",
       "      <td>0</td>\n",
       "      <td>unknown</td>\n",
       "      <td>no</td>\n",
       "    </tr>\n",
       "    <tr>\n",
       "      <th>1815</th>\n",
       "      <td>58</td>\n",
       "      <td>technician</td>\n",
       "      <td>married</td>\n",
       "      <td>secondary</td>\n",
       "      <td>no</td>\n",
       "      <td>175</td>\n",
       "      <td>no</td>\n",
       "      <td>no</td>\n",
       "      <td>cellular</td>\n",
       "      <td>12</td>\n",
       "      <td>aug</td>\n",
       "      <td>92</td>\n",
       "      <td>4</td>\n",
       "      <td>-1</td>\n",
       "      <td>0</td>\n",
       "      <td>unknown</td>\n",
       "      <td>no</td>\n",
       "    </tr>\n",
       "  </tbody>\n",
       "</table>\n",
       "</div>"
      ],
      "text/plain": [
       "      age         job  marital  education default  balance housing loan  \\\n",
       "3195   33    services  married    primary      no     6904      no   no   \n",
       "4398   57     retired  married   tertiary      no       31      no   no   \n",
       "2695   46  technician  married   tertiary      no      405      no   no   \n",
       "4311   46      admin.   single  secondary      no     1790     yes   no   \n",
       "1815   58  technician  married  secondary      no      175      no   no   \n",
       "\n",
       "        contact  day month  duration  campaign  pdays  previous poutcome   y  \n",
       "3195  telephone   20   nov       114         2     -1         0  unknown  no  \n",
       "4398   cellular   19   aug       260         2     -1         0  unknown  no  \n",
       "2695   cellular   11   aug       138         3     -1         0  unknown  no  \n",
       "4311    unknown    5   jun       214         5     -1         0  unknown  no  \n",
       "1815   cellular   12   aug        92         4     -1         0  unknown  no  "
      ]
     },
     "execution_count": 3,
     "metadata": {},
     "output_type": "execute_result"
    }
   ],
   "source": [
    "bank = pd.read_csv('https://raw.githubusercontent.com/christianolivamoya/MIAX11-ML/main/data/bank.csv', sep=';')\n",
    "bank.sample(5)"
   ]
  },
  {
   "cell_type": "markdown",
   "metadata": {},
   "source": [
    "Hacemos el preprocesado de los datos como hemos visto previamente."
   ]
  },
  {
   "cell_type": "code",
   "execution_count": 4,
   "metadata": {
    "colab": {
     "base_uri": "https://localhost:8080/",
     "height": 424
    },
    "executionInfo": {
     "elapsed": 17,
     "status": "ok",
     "timestamp": 1683796125011,
     "user": {
      "displayName": "Christian Oliva",
      "userId": "13213576285190882856"
     },
     "user_tz": -120
    },
    "id": "xbS96a0wfQVj",
    "outputId": "500a4832-c476-49c8-978c-6889d9388487"
   },
   "outputs": [
    {
     "data": {
      "text/html": [
       "<div>\n",
       "<style scoped>\n",
       "    .dataframe tbody tr th:only-of-type {\n",
       "        vertical-align: middle;\n",
       "    }\n",
       "\n",
       "    .dataframe tbody tr th {\n",
       "        vertical-align: top;\n",
       "    }\n",
       "\n",
       "    .dataframe thead th {\n",
       "        text-align: right;\n",
       "    }\n",
       "</style>\n",
       "<table border=\"1\" class=\"dataframe\">\n",
       "  <thead>\n",
       "    <tr style=\"text-align: right;\">\n",
       "      <th></th>\n",
       "      <th>age</th>\n",
       "      <th>education</th>\n",
       "      <th>default</th>\n",
       "      <th>balance</th>\n",
       "      <th>housing</th>\n",
       "      <th>loan</th>\n",
       "      <th>duration</th>\n",
       "      <th>campaign</th>\n",
       "      <th>pdays</th>\n",
       "      <th>previous</th>\n",
       "      <th>...</th>\n",
       "      <th>marital_divorced</th>\n",
       "      <th>marital_married</th>\n",
       "      <th>marital_single</th>\n",
       "      <th>contact_cellular</th>\n",
       "      <th>contact_telephone</th>\n",
       "      <th>contact_unknown</th>\n",
       "      <th>poutcome_failure</th>\n",
       "      <th>poutcome_other</th>\n",
       "      <th>poutcome_success</th>\n",
       "      <th>poutcome_unknown</th>\n",
       "    </tr>\n",
       "  </thead>\n",
       "  <tbody>\n",
       "    <tr>\n",
       "      <th>1837</th>\n",
       "      <td>39</td>\n",
       "      <td>3</td>\n",
       "      <td>True</td>\n",
       "      <td>3</td>\n",
       "      <td>False</td>\n",
       "      <td>False</td>\n",
       "      <td>488</td>\n",
       "      <td>1</td>\n",
       "      <td>-1</td>\n",
       "      <td>0</td>\n",
       "      <td>...</td>\n",
       "      <td>True</td>\n",
       "      <td>False</td>\n",
       "      <td>False</td>\n",
       "      <td>True</td>\n",
       "      <td>False</td>\n",
       "      <td>False</td>\n",
       "      <td>False</td>\n",
       "      <td>False</td>\n",
       "      <td>False</td>\n",
       "      <td>True</td>\n",
       "    </tr>\n",
       "    <tr>\n",
       "      <th>264</th>\n",
       "      <td>58</td>\n",
       "      <td>3</td>\n",
       "      <td>False</td>\n",
       "      <td>883</td>\n",
       "      <td>False</td>\n",
       "      <td>False</td>\n",
       "      <td>543</td>\n",
       "      <td>1</td>\n",
       "      <td>78</td>\n",
       "      <td>2</td>\n",
       "      <td>...</td>\n",
       "      <td>False</td>\n",
       "      <td>True</td>\n",
       "      <td>False</td>\n",
       "      <td>True</td>\n",
       "      <td>False</td>\n",
       "      <td>False</td>\n",
       "      <td>True</td>\n",
       "      <td>False</td>\n",
       "      <td>False</td>\n",
       "      <td>False</td>\n",
       "    </tr>\n",
       "    <tr>\n",
       "      <th>1983</th>\n",
       "      <td>34</td>\n",
       "      <td>2</td>\n",
       "      <td>False</td>\n",
       "      <td>105</td>\n",
       "      <td>True</td>\n",
       "      <td>False</td>\n",
       "      <td>146</td>\n",
       "      <td>2</td>\n",
       "      <td>171</td>\n",
       "      <td>3</td>\n",
       "      <td>...</td>\n",
       "      <td>False</td>\n",
       "      <td>False</td>\n",
       "      <td>True</td>\n",
       "      <td>True</td>\n",
       "      <td>False</td>\n",
       "      <td>False</td>\n",
       "      <td>True</td>\n",
       "      <td>False</td>\n",
       "      <td>False</td>\n",
       "      <td>False</td>\n",
       "    </tr>\n",
       "    <tr>\n",
       "      <th>4218</th>\n",
       "      <td>48</td>\n",
       "      <td>3</td>\n",
       "      <td>False</td>\n",
       "      <td>5057</td>\n",
       "      <td>False</td>\n",
       "      <td>True</td>\n",
       "      <td>37</td>\n",
       "      <td>1</td>\n",
       "      <td>-1</td>\n",
       "      <td>0</td>\n",
       "      <td>...</td>\n",
       "      <td>False</td>\n",
       "      <td>True</td>\n",
       "      <td>False</td>\n",
       "      <td>True</td>\n",
       "      <td>False</td>\n",
       "      <td>False</td>\n",
       "      <td>False</td>\n",
       "      <td>False</td>\n",
       "      <td>False</td>\n",
       "      <td>True</td>\n",
       "    </tr>\n",
       "    <tr>\n",
       "      <th>1342</th>\n",
       "      <td>27</td>\n",
       "      <td>2</td>\n",
       "      <td>False</td>\n",
       "      <td>710</td>\n",
       "      <td>True</td>\n",
       "      <td>True</td>\n",
       "      <td>653</td>\n",
       "      <td>1</td>\n",
       "      <td>334</td>\n",
       "      <td>2</td>\n",
       "      <td>...</td>\n",
       "      <td>False</td>\n",
       "      <td>True</td>\n",
       "      <td>False</td>\n",
       "      <td>True</td>\n",
       "      <td>False</td>\n",
       "      <td>False</td>\n",
       "      <td>False</td>\n",
       "      <td>False</td>\n",
       "      <td>True</td>\n",
       "      <td>False</td>\n",
       "    </tr>\n",
       "  </tbody>\n",
       "</table>\n",
       "<p>5 rows × 32 columns</p>\n",
       "</div>"
      ],
      "text/plain": [
       "      age  education  default  balance  housing   loan  duration  campaign  \\\n",
       "1837   39          3     True        3    False  False       488         1   \n",
       "264    58          3    False      883    False  False       543         1   \n",
       "1983   34          2    False      105     True  False       146         2   \n",
       "4218   48          3    False     5057    False   True        37         1   \n",
       "1342   27          2    False      710     True   True       653         1   \n",
       "\n",
       "      pdays  previous  ...  marital_divorced  marital_married  marital_single  \\\n",
       "1837     -1         0  ...              True            False           False   \n",
       "264      78         2  ...             False             True           False   \n",
       "1983    171         3  ...             False            False            True   \n",
       "4218     -1         0  ...             False             True           False   \n",
       "1342    334         2  ...             False             True           False   \n",
       "\n",
       "      contact_cellular  contact_telephone  contact_unknown  poutcome_failure  \\\n",
       "1837              True              False            False             False   \n",
       "264               True              False            False              True   \n",
       "1983              True              False            False              True   \n",
       "4218              True              False            False             False   \n",
       "1342              True              False            False             False   \n",
       "\n",
       "      poutcome_other  poutcome_success  poutcome_unknown  \n",
       "1837           False             False              True  \n",
       "264            False             False             False  \n",
       "1983           False             False             False  \n",
       "4218           False             False              True  \n",
       "1342           False              True             False  \n",
       "\n",
       "[5 rows x 32 columns]"
      ]
     },
     "execution_count": 4,
     "metadata": {},
     "output_type": "execute_result"
    }
   ],
   "source": [
    "bank.drop(columns=['day', 'month'], inplace=True)\n",
    "educ_mapping = {'unknown':0,\n",
    "                'primary':1,\n",
    "                'secondary':2, \n",
    "                'tertiary':3}\n",
    "noyes_mapping = {'no':False, 'yes':True}\n",
    "bank['education'].replace(educ_mapping, inplace=True)\n",
    "bank['y'].replace(noyes_mapping, inplace=True) # Cambio el target a True (1) o False (0) \n",
    "bank['default'].replace(noyes_mapping, inplace=True)\n",
    "bank['housing'].replace(noyes_mapping, inplace=True)\n",
    "bank['loan'].replace(noyes_mapping, inplace=True)\n",
    "\n",
    "features = bank.drop(columns='y')\n",
    "target = bank['y']\n",
    "\n",
    "features = pd.get_dummies(features)\n",
    "features.sample(5)"
   ]
  },
  {
   "cell_type": "markdown",
   "metadata": {},
   "source": [
    "Separamos el dataset en train y test."
   ]
  },
  {
   "cell_type": "code",
   "execution_count": 5,
   "metadata": {
    "id": "dtAzGdbJ6gDu"
   },
   "outputs": [],
   "source": [
    "x_train, x_test, y_train, y_test = train_test_split(features,\n",
    "                                                    target,\n",
    "                                                    test_size=0.2,\n",
    "                                                    random_state=20)"
   ]
  },
  {
   "cell_type": "code",
   "execution_count": 7,
   "metadata": {
    "colab": {
     "base_uri": "https://localhost:8080/",
     "height": 206
    },
    "executionInfo": {
     "elapsed": 7,
     "status": "ok",
     "timestamp": 1683796265409,
     "user": {
      "displayName": "Christian Oliva",
      "userId": "13213576285190882856"
     },
     "user_tz": -120
    },
    "id": "V1T27SU6fQVo",
    "outputId": "966f56ee-360e-4e7b-e5be-5f61c1e3fd11"
   },
   "outputs": [
    {
     "data": {
      "text/html": [
       "<div>\n",
       "<style scoped>\n",
       "    .dataframe tbody tr th:only-of-type {\n",
       "        vertical-align: middle;\n",
       "    }\n",
       "\n",
       "    .dataframe tbody tr th {\n",
       "        vertical-align: top;\n",
       "    }\n",
       "\n",
       "    .dataframe thead th {\n",
       "        text-align: right;\n",
       "    }\n",
       "</style>\n",
       "<table border=\"1\" class=\"dataframe\">\n",
       "  <thead>\n",
       "    <tr style=\"text-align: right;\">\n",
       "      <th></th>\n",
       "      <th>age</th>\n",
       "      <th>education</th>\n",
       "      <th>default</th>\n",
       "      <th>balance</th>\n",
       "      <th>housing</th>\n",
       "      <th>loan</th>\n",
       "      <th>duration</th>\n",
       "      <th>campaign</th>\n",
       "      <th>pdays</th>\n",
       "      <th>previous</th>\n",
       "      <th>...</th>\n",
       "      <th>marital_divorced</th>\n",
       "      <th>marital_married</th>\n",
       "      <th>marital_single</th>\n",
       "      <th>contact_cellular</th>\n",
       "      <th>contact_telephone</th>\n",
       "      <th>contact_unknown</th>\n",
       "      <th>poutcome_failure</th>\n",
       "      <th>poutcome_other</th>\n",
       "      <th>poutcome_success</th>\n",
       "      <th>poutcome_unknown</th>\n",
       "    </tr>\n",
       "  </thead>\n",
       "  <tbody>\n",
       "    <tr>\n",
       "      <th>3108</th>\n",
       "      <td>-0.302862</td>\n",
       "      <td>-1.348721</td>\n",
       "      <td>False</td>\n",
       "      <td>0.106486</td>\n",
       "      <td>True</td>\n",
       "      <td>False</td>\n",
       "      <td>-0.931253</td>\n",
       "      <td>4.873419</td>\n",
       "      <td>-0.411175</td>\n",
       "      <td>-0.322186</td>\n",
       "      <td>...</td>\n",
       "      <td>False</td>\n",
       "      <td>True</td>\n",
       "      <td>False</td>\n",
       "      <td>False</td>\n",
       "      <td>False</td>\n",
       "      <td>True</td>\n",
       "      <td>False</td>\n",
       "      <td>False</td>\n",
       "      <td>False</td>\n",
       "      <td>True</td>\n",
       "    </tr>\n",
       "    <tr>\n",
       "      <th>984</th>\n",
       "      <td>1.682476</td>\n",
       "      <td>1.186089</td>\n",
       "      <td>False</td>\n",
       "      <td>0.229871</td>\n",
       "      <td>False</td>\n",
       "      <td>False</td>\n",
       "      <td>-0.161220</td>\n",
       "      <td>0.386931</td>\n",
       "      <td>0.528259</td>\n",
       "      <td>0.821116</td>\n",
       "      <td>...</td>\n",
       "      <td>False</td>\n",
       "      <td>True</td>\n",
       "      <td>False</td>\n",
       "      <td>True</td>\n",
       "      <td>False</td>\n",
       "      <td>False</td>\n",
       "      <td>False</td>\n",
       "      <td>False</td>\n",
       "      <td>True</td>\n",
       "      <td>False</td>\n",
       "    </tr>\n",
       "    <tr>\n",
       "      <th>2255</th>\n",
       "      <td>-0.491942</td>\n",
       "      <td>1.186089</td>\n",
       "      <td>False</td>\n",
       "      <td>0.051813</td>\n",
       "      <td>True</td>\n",
       "      <td>False</td>\n",
       "      <td>-0.701392</td>\n",
       "      <td>0.066468</td>\n",
       "      <td>1.279806</td>\n",
       "      <td>0.249465</td>\n",
       "      <td>...</td>\n",
       "      <td>False</td>\n",
       "      <td>False</td>\n",
       "      <td>True</td>\n",
       "      <td>True</td>\n",
       "      <td>False</td>\n",
       "      <td>False</td>\n",
       "      <td>True</td>\n",
       "      <td>False</td>\n",
       "      <td>False</td>\n",
       "      <td>False</td>\n",
       "    </tr>\n",
       "    <tr>\n",
       "      <th>612</th>\n",
       "      <td>-1.437341</td>\n",
       "      <td>1.186089</td>\n",
       "      <td>False</td>\n",
       "      <td>-0.483838</td>\n",
       "      <td>False</td>\n",
       "      <td>False</td>\n",
       "      <td>-0.007980</td>\n",
       "      <td>0.066468</td>\n",
       "      <td>-0.411175</td>\n",
       "      <td>-0.322186</td>\n",
       "      <td>...</td>\n",
       "      <td>False</td>\n",
       "      <td>False</td>\n",
       "      <td>True</td>\n",
       "      <td>True</td>\n",
       "      <td>False</td>\n",
       "      <td>False</td>\n",
       "      <td>False</td>\n",
       "      <td>False</td>\n",
       "      <td>False</td>\n",
       "      <td>True</td>\n",
       "    </tr>\n",
       "    <tr>\n",
       "      <th>2475</th>\n",
       "      <td>1.682476</td>\n",
       "      <td>-0.081316</td>\n",
       "      <td>False</td>\n",
       "      <td>-0.153581</td>\n",
       "      <td>True</td>\n",
       "      <td>False</td>\n",
       "      <td>-0.004149</td>\n",
       "      <td>0.386931</td>\n",
       "      <td>-0.411175</td>\n",
       "      <td>-0.322186</td>\n",
       "      <td>...</td>\n",
       "      <td>True</td>\n",
       "      <td>False</td>\n",
       "      <td>False</td>\n",
       "      <td>False</td>\n",
       "      <td>False</td>\n",
       "      <td>True</td>\n",
       "      <td>False</td>\n",
       "      <td>False</td>\n",
       "      <td>False</td>\n",
       "      <td>True</td>\n",
       "    </tr>\n",
       "  </tbody>\n",
       "</table>\n",
       "<p>5 rows × 32 columns</p>\n",
       "</div>"
      ],
      "text/plain": [
       "           age  education  default   balance  housing   loan  duration  \\\n",
       "3108 -0.302862  -1.348721    False  0.106486     True  False -0.931253   \n",
       "984   1.682476   1.186089    False  0.229871    False  False -0.161220   \n",
       "2255 -0.491942   1.186089    False  0.051813     True  False -0.701392   \n",
       "612  -1.437341   1.186089    False -0.483838    False  False -0.007980   \n",
       "2475  1.682476  -0.081316    False -0.153581     True  False -0.004149   \n",
       "\n",
       "      campaign     pdays  previous  ...  marital_divorced  marital_married  \\\n",
       "3108  4.873419 -0.411175 -0.322186  ...             False             True   \n",
       "984   0.386931  0.528259  0.821116  ...             False             True   \n",
       "2255  0.066468  1.279806  0.249465  ...             False            False   \n",
       "612   0.066468 -0.411175 -0.322186  ...             False            False   \n",
       "2475  0.386931 -0.411175 -0.322186  ...              True            False   \n",
       "\n",
       "      marital_single  contact_cellular  contact_telephone  contact_unknown  \\\n",
       "3108           False             False              False             True   \n",
       "984            False              True              False            False   \n",
       "2255            True              True              False            False   \n",
       "612             True              True              False            False   \n",
       "2475           False             False              False             True   \n",
       "\n",
       "      poutcome_failure  poutcome_other  poutcome_success  poutcome_unknown  \n",
       "3108             False           False             False              True  \n",
       "984              False           False              True             False  \n",
       "2255              True           False             False             False  \n",
       "612              False           False             False              True  \n",
       "2475             False           False             False              True  \n",
       "\n",
       "[5 rows x 32 columns]"
      ]
     },
     "execution_count": 7,
     "metadata": {},
     "output_type": "execute_result"
    }
   ],
   "source": [
    "norm_features = ['age','balance','duration','pdays', 'education','campaign','previous']\n",
    "scaler = StandardScaler()\n",
    "\n",
    "x_train.loc[:, norm_features] = scaler.fit_transform(x_train.loc[:,norm_features])\n",
    "\n",
    "# Ojo, no hacemos FIT en test para que utilice media y std de train\n",
    "x_test.loc[:, norm_features] = scaler.transform(x_test.loc[:, norm_features])\n",
    "\n",
    "x_train.head()"
   ]
  },
  {
   "cell_type": "code",
   "execution_count": 15,
   "metadata": {
    "id": "s4SFQLWxfQVt"
   },
   "outputs": [],
   "source": [
    "dtree = DecisionTreeClassifier(max_depth=7)\n",
    "_ = dtree.fit(x_train, y_train)"
   ]
  },
  {
   "cell_type": "markdown",
   "metadata": {
    "id": "FJU1G_6HfQVv"
   },
   "source": [
    "El accuracy de base.  Tomaremos este valor como referencia \n",
    "respecto al cálculo de la importancia de características"
   ]
  },
  {
   "cell_type": "code",
   "execution_count": 16,
   "metadata": {
    "colab": {
     "base_uri": "https://localhost:8080/"
    },
    "executionInfo": {
     "elapsed": 206,
     "status": "ok",
     "timestamp": 1683796342544,
     "user": {
      "displayName": "Christian Oliva",
      "userId": "13213576285190882856"
     },
     "user_tz": -120
    },
    "id": "zALhRw3Vh-v5",
    "outputId": "0a095239-e552-4fa7-dce4-20274ad7d91d"
   },
   "outputs": [
    {
     "name": "stdout",
     "output_type": "stream",
     "text": [
      "0.8917127071823204\n"
     ]
    }
   ],
   "source": [
    "print(dtree.score(x_test, y_test))"
   ]
  },
  {
   "cell_type": "markdown",
   "metadata": {
    "id": "iut-glYPfQVv"
   },
   "source": [
    "___"
   ]
  },
  {
   "cell_type": "code",
   "execution_count": 17,
   "metadata": {
    "id": "5uVQvq6AfQVw"
   },
   "outputs": [],
   "source": [
    "from sklearn.inspection import permutation_importance"
   ]
  },
  {
   "cell_type": "markdown",
   "metadata": {
    "id": "3VUxGVMXfQVw"
   },
   "source": [
    "Calculamos la importancia de características por permutación utilizando\n",
    "la función disponible en sklearn"
   ]
  },
  {
   "cell_type": "code",
   "execution_count": 19,
   "metadata": {
    "id": "gLY-McnIfQVy"
   },
   "outputs": [],
   "source": [
    "pimp_tree = permutation_importance(dtree, x_train, y_train, n_repeats=10)"
   ]
  },
  {
   "cell_type": "code",
   "execution_count": 20,
   "metadata": {
    "id": "opMNXbTwfQVy"
   },
   "outputs": [],
   "source": [
    "imp_df = pd.DataFrame({'ft': x_train.columns,\n",
    "                       'tree_mean': pimp_tree.importances_mean,\n",
    "                       'tree_std': pimp_tree.importances_std\n",
    "                      })\n",
    "imp_df.sort_values('tree_mean', ascending=False, inplace=True)"
   ]
  },
  {
   "cell_type": "code",
   "execution_count": 21,
   "metadata": {
    "colab": {
     "base_uri": "https://localhost:8080/",
     "height": 363
    },
    "executionInfo": {
     "elapsed": 237,
     "status": "ok",
     "timestamp": 1683796462890,
     "user": {
      "displayName": "Christian Oliva",
      "userId": "13213576285190882856"
     },
     "user_tz": -120
    },
    "id": "lL1sakv8fQVy",
    "outputId": "069ca33d-b1b1-4c54-802a-9beb2cd46757"
   },
   "outputs": [
    {
     "data": {
      "text/html": [
       "<div>\n",
       "<style scoped>\n",
       "    .dataframe tbody tr th:only-of-type {\n",
       "        vertical-align: middle;\n",
       "    }\n",
       "\n",
       "    .dataframe tbody tr th {\n",
       "        vertical-align: top;\n",
       "    }\n",
       "\n",
       "    .dataframe thead th {\n",
       "        text-align: right;\n",
       "    }\n",
       "</style>\n",
       "<table border=\"1\" class=\"dataframe\">\n",
       "  <thead>\n",
       "    <tr style=\"text-align: right;\">\n",
       "      <th></th>\n",
       "      <th>ft</th>\n",
       "      <th>tree_mean</th>\n",
       "      <th>tree_std</th>\n",
       "    </tr>\n",
       "  </thead>\n",
       "  <tbody>\n",
       "    <tr>\n",
       "      <th>6</th>\n",
       "      <td>duration</td>\n",
       "      <td>0.077600</td>\n",
       "      <td>0.004331</td>\n",
       "    </tr>\n",
       "    <tr>\n",
       "      <th>8</th>\n",
       "      <td>pdays</td>\n",
       "      <td>0.022317</td>\n",
       "      <td>0.001469</td>\n",
       "    </tr>\n",
       "    <tr>\n",
       "      <th>30</th>\n",
       "      <td>poutcome_success</td>\n",
       "      <td>0.017920</td>\n",
       "      <td>0.000972</td>\n",
       "    </tr>\n",
       "    <tr>\n",
       "      <th>0</th>\n",
       "      <td>age</td>\n",
       "      <td>0.012528</td>\n",
       "      <td>0.001225</td>\n",
       "    </tr>\n",
       "    <tr>\n",
       "      <th>23</th>\n",
       "      <td>marital_married</td>\n",
       "      <td>0.011173</td>\n",
       "      <td>0.001632</td>\n",
       "    </tr>\n",
       "    <tr>\n",
       "      <th>25</th>\n",
       "      <td>contact_cellular</td>\n",
       "      <td>0.006748</td>\n",
       "      <td>0.001006</td>\n",
       "    </tr>\n",
       "    <tr>\n",
       "      <th>1</th>\n",
       "      <td>education</td>\n",
       "      <td>0.004065</td>\n",
       "      <td>0.001086</td>\n",
       "    </tr>\n",
       "    <tr>\n",
       "      <th>27</th>\n",
       "      <td>contact_unknown</td>\n",
       "      <td>0.003982</td>\n",
       "      <td>0.000784</td>\n",
       "    </tr>\n",
       "    <tr>\n",
       "      <th>3</th>\n",
       "      <td>balance</td>\n",
       "      <td>0.003374</td>\n",
       "      <td>0.000664</td>\n",
       "    </tr>\n",
       "    <tr>\n",
       "      <th>7</th>\n",
       "      <td>campaign</td>\n",
       "      <td>0.002268</td>\n",
       "      <td>0.000492</td>\n",
       "    </tr>\n",
       "  </tbody>\n",
       "</table>\n",
       "</div>"
      ],
      "text/plain": [
       "                  ft  tree_mean  tree_std\n",
       "6           duration   0.077600  0.004331\n",
       "8              pdays   0.022317  0.001469\n",
       "30  poutcome_success   0.017920  0.000972\n",
       "0                age   0.012528  0.001225\n",
       "23   marital_married   0.011173  0.001632\n",
       "25  contact_cellular   0.006748  0.001006\n",
       "1          education   0.004065  0.001086\n",
       "27   contact_unknown   0.003982  0.000784\n",
       "3            balance   0.003374  0.000664\n",
       "7           campaign   0.002268  0.000492"
      ]
     },
     "execution_count": 21,
     "metadata": {},
     "output_type": "execute_result"
    }
   ],
   "source": [
    "imp_df_better_tree = imp_df.iloc[:10]\n",
    "imp_df_better_tree"
   ]
  },
  {
   "cell_type": "code",
   "execution_count": 23,
   "metadata": {
    "colab": {
     "base_uri": "https://localhost:8080/",
     "height": 546
    },
    "executionInfo": {
     "elapsed": 627,
     "status": "ok",
     "timestamp": 1683796475878,
     "user": {
      "displayName": "Christian Oliva",
      "userId": "13213576285190882856"
     },
     "user_tz": -120
    },
    "id": "SNPT-qZUhKN6",
    "outputId": "f5e4fb9a-45bf-4010-e1c6-387963374c6c"
   },
   "outputs": [
    {
     "data": {
      "image/png": "[encoded data removed]",
      "text/plain": [
       "<Figure size 640x480 with 1 Axes>"
      ]
     },
     "metadata": {},
     "output_type": "display_data"
    }
   ],
   "source": [
    "bw=0.25\n",
    "plt.bar(np.arange(imp_df_better_tree.shape[0]),\n",
    "                  imp_df_better_tree.tree_mean,\n",
    "                  yerr=imp_df_better_tree.tree_std,\n",
    "                  width=bw,\n",
    "                  tick_label=imp_df_better_tree.ft,\n",
    "                  )\n",
    "plt.xticks(rotation=90)\n",
    "plt.show()"
   ]
  },
  {
   "cell_type": "markdown",
   "metadata": {
    "id": "Lu9mj0hihmc9"
   },
   "source": [
    "### Propuesta de ejercicio"
   ]
  },
  {
   "cell_type": "markdown",
   "metadata": {
    "id": "tfd0OS6phoJk"
   },
   "source": [
    "Vamos a entrenar un árbol con los 10 atributos más significativos para comparar con el rendimiento del modelo original."
   ]
  },
  {
   "cell_type": "code",
   "execution_count": 24,
   "metadata": {
    "id": "q80fW-2-gbEo"
   },
   "outputs": [],
   "source": [
    "x_train_small = x_train[imp_df_better_tree['ft'].values]\n",
    "x_test_small = x_test[imp_df_better_tree['ft'].values]"
   ]
  },
  {
   "cell_type": "code",
   "execution_count": 25,
   "metadata": {
    "colab": {
     "base_uri": "https://localhost:8080/",
     "height": 206
    },
    "executionInfo": {
     "elapsed": 5,
     "status": "ok",
     "timestamp": 1683796521608,
     "user": {
      "displayName": "Christian Oliva",
      "userId": "13213576285190882856"
     },
     "user_tz": -120
    },
    "id": "fK7E5tK7giC0",
    "outputId": "caac101a-e2c8-4818-f607-249375b8df83"
   },
   "outputs": [
    {
     "data": {
      "text/html": [
       "<div>\n",
       "<style scoped>\n",
       "    .dataframe tbody tr th:only-of-type {\n",
       "        vertical-align: middle;\n",
       "    }\n",
       "\n",
       "    .dataframe tbody tr th {\n",
       "        vertical-align: top;\n",
       "    }\n",
       "\n",
       "    .dataframe thead th {\n",
       "        text-align: right;\n",
       "    }\n",
       "</style>\n",
       "<table border=\"1\" class=\"dataframe\">\n",
       "  <thead>\n",
       "    <tr style=\"text-align: right;\">\n",
       "      <th></th>\n",
       "      <th>duration</th>\n",
       "      <th>pdays</th>\n",
       "      <th>poutcome_success</th>\n",
       "      <th>age</th>\n",
       "      <th>marital_married</th>\n",
       "      <th>contact_cellular</th>\n",
       "      <th>education</th>\n",
       "      <th>contact_unknown</th>\n",
       "      <th>balance</th>\n",
       "      <th>campaign</th>\n",
       "    </tr>\n",
       "  </thead>\n",
       "  <tbody>\n",
       "    <tr>\n",
       "      <th>3108</th>\n",
       "      <td>-0.931253</td>\n",
       "      <td>-0.411175</td>\n",
       "      <td>False</td>\n",
       "      <td>-0.302862</td>\n",
       "      <td>True</td>\n",
       "      <td>False</td>\n",
       "      <td>-1.348721</td>\n",
       "      <td>True</td>\n",
       "      <td>0.106486</td>\n",
       "      <td>4.873419</td>\n",
       "    </tr>\n",
       "    <tr>\n",
       "      <th>984</th>\n",
       "      <td>-0.161220</td>\n",
       "      <td>0.528259</td>\n",
       "      <td>True</td>\n",
       "      <td>1.682476</td>\n",
       "      <td>True</td>\n",
       "      <td>True</td>\n",
       "      <td>1.186089</td>\n",
       "      <td>False</td>\n",
       "      <td>0.229871</td>\n",
       "      <td>0.386931</td>\n",
       "    </tr>\n",
       "    <tr>\n",
       "      <th>2255</th>\n",
       "      <td>-0.701392</td>\n",
       "      <td>1.279806</td>\n",
       "      <td>False</td>\n",
       "      <td>-0.491942</td>\n",
       "      <td>False</td>\n",
       "      <td>True</td>\n",
       "      <td>1.186089</td>\n",
       "      <td>False</td>\n",
       "      <td>0.051813</td>\n",
       "      <td>0.066468</td>\n",
       "    </tr>\n",
       "    <tr>\n",
       "      <th>612</th>\n",
       "      <td>-0.007980</td>\n",
       "      <td>-0.411175</td>\n",
       "      <td>False</td>\n",
       "      <td>-1.437341</td>\n",
       "      <td>False</td>\n",
       "      <td>True</td>\n",
       "      <td>1.186089</td>\n",
       "      <td>False</td>\n",
       "      <td>-0.483838</td>\n",
       "      <td>0.066468</td>\n",
       "    </tr>\n",
       "    <tr>\n",
       "      <th>2475</th>\n",
       "      <td>-0.004149</td>\n",
       "      <td>-0.411175</td>\n",
       "      <td>False</td>\n",
       "      <td>1.682476</td>\n",
       "      <td>False</td>\n",
       "      <td>False</td>\n",
       "      <td>-0.081316</td>\n",
       "      <td>True</td>\n",
       "      <td>-0.153581</td>\n",
       "      <td>0.386931</td>\n",
       "    </tr>\n",
       "  </tbody>\n",
       "</table>\n",
       "</div>"
      ],
      "text/plain": [
       "      duration     pdays  poutcome_success       age  marital_married  \\\n",
       "3108 -0.931253 -0.411175             False -0.302862             True   \n",
       "984  -0.161220  0.528259              True  1.682476             True   \n",
       "2255 -0.701392  1.279806             False -0.491942            False   \n",
       "612  -0.007980 -0.411175             False -1.437341            False   \n",
       "2475 -0.004149 -0.411175             False  1.682476            False   \n",
       "\n",
       "      contact_cellular  education  contact_unknown   balance  campaign  \n",
       "3108             False  -1.348721             True  0.106486  4.873419  \n",
       "984               True   1.186089            False  0.229871  0.386931  \n",
       "2255              True   1.186089            False  0.051813  0.066468  \n",
       "612               True   1.186089            False -0.483838  0.066468  \n",
       "2475             False  -0.081316             True -0.153581  0.386931  "
      ]
     },
     "execution_count": 25,
     "metadata": {},
     "output_type": "execute_result"
    }
   ],
   "source": [
    "x_train_small.head()"
   ]
  },
  {
   "cell_type": "code",
   "execution_count": 26,
   "metadata": {
    "id": "8sexLUKggjUL"
   },
   "outputs": [],
   "source": [
    "tree_small = DecisionTreeClassifier(max_depth=7)\n",
    "_ = tree_small.fit(x_train_small, y_train)"
   ]
  },
  {
   "cell_type": "code",
   "execution_count": 27,
   "metadata": {
    "colab": {
     "base_uri": "https://localhost:8080/"
    },
    "executionInfo": {
     "elapsed": 211,
     "status": "ok",
     "timestamp": 1683796522501,
     "user": {
      "displayName": "Christian Oliva",
      "userId": "13213576285190882856"
     },
     "user_tz": -120
    },
    "id": "oVZlt07NiIur",
    "outputId": "685bc23a-8f32-41db-d0f2-b801ca52fb6c"
   },
   "outputs": [
    {
     "name": "stdout",
     "output_type": "stream",
     "text": [
      "0.8861878453038674\n"
     ]
    }
   ],
   "source": [
    "print(tree_small.score(x_test_small, y_test))"
   ]
  },
  {
   "cell_type": "markdown",
   "metadata": {
    "id": "PYPnrIEui0Lf"
   },
   "source": [
    "Vamos a ver, finalmente, el ratio de score de tree_small frente a tree"
   ]
  },
  {
   "cell_type": "code",
   "execution_count": 30,
   "metadata": {
    "colab": {
     "base_uri": "https://localhost:8080/"
    },
    "executionInfo": {
     "elapsed": 3,
     "status": "ok",
     "timestamp": 1683796524273,
     "user": {
      "displayName": "Christian Oliva",
      "userId": "13213576285190882856"
     },
     "user_tz": -120
    },
    "id": "Jpba2OqWh6aZ",
    "outputId": "7875bb0c-4255-4d6c-e900-f8303d52d657"
   },
   "outputs": [
    {
     "data": {
      "text/plain": [
       "0.9938042131350682"
      ]
     },
     "execution_count": 30,
     "metadata": {},
     "output_type": "execute_result"
    }
   ],
   "source": [
    "tree_small.score(x_test_small, y_test) / dtree.score(x_test, y_test)"
   ]
  },
  {
   "cell_type": "code",
   "execution_count": null,
   "metadata": {
    "id": "-3UfaGl0itcG"
   },
   "outputs": [],
   "source": []
  }
 ],
 "metadata": {
  "colab": {
   "provenance": []
  },
  "kernelspec": {
   "display_name": "Python 3 (ipykernel)",
   "language": "python",
   "name": "python3"
  },
  "language_info": {
   "codemirror_mode": {
    "name": "ipython",
    "version": 3
   },
   "file_extension": ".py",
   "mimetype": "text/x-python",
   "name": "python",
   "nbconvert_exporter": "python",
   "pygments_lexer": "ipython3",
   "version": "3.11.5"
  }
 },
 "nbformat": 4,
 "nbformat_minor": 1
}
